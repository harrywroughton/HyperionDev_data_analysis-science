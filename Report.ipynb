{
 "cells": [
  {
   "cell_type": "code",
   "execution_count": null,
   "metadata": {
    "id": "h0LVvvnfJsg5"
   },
   "outputs": [],
   "source": [
    "import pandas as pd"
   ]
  },
  {
   "cell_type": "code",
   "execution_count": null,
   "metadata": {
    "id": "rv2oLRnPK36J"
   },
   "outputs": [],
   "source": [
    "df = pd.read_csv('balance.txt', delim_whitespace=True)"
   ]
  },
  {
   "cell_type": "markdown",
   "metadata": {
    "id": "_LXpBJXZLYoh"
   },
   "source": [
    "Write the code needed to produce a report that provides the following information:\n",
    "* Compare the average income based on ethnicity. \n",
    "* On average, do married or single people have a higher balance?\n",
    "* What is the highest income in our dataset?\n",
    "* What is the lowest income in our dataset?\n",
    "* How many cards do we have recorded in our dataset? (Hint: use `sum()`)\n",
    "* How many females do we have information for vs how many males? (Hint: use `count()`For a list of all methods for computation of descriptive stats, explore the [pandas documentation](https://pandas.pydata.org/pandas-docs/stable/reference/frame.html#computations-descriptive-stats)). \n",
    "\n",
    "\n"
   ]
  },
  {
   "cell_type": "code",
   "execution_count": null,
   "metadata": {},
   "outputs": [],
   "source": [
    "import pandas as pd\n",
    "df = pd.read_csv('balance.txt', delim_whitespace=True)\n",
    "print(\"The average income of Caucasians is \", df[df.Ethnicity == \"Caucasian\"].loc[:,\"Income\"].mean())\n",
    "print(\"The average income of Asians is \", df[df.Ethnicity == \"Asian\"].loc[:,\"Income\"].mean())\n",
    "print(\"The average income of African Americans is \", df[df.Ethnicity == \"African American\"].loc[:,\"Income\"].mean())"
   ]
  },
  {
   "cell_type": "code",
   "execution_count": null,
   "metadata": {},
   "outputs": [],
   "source": [
    "import pandas as pd\n",
    "df = pd.read_csv('balance.txt', delim_whitespace=True)\n",
    "print(\"The average balance of married people is \", df[df.Married == \"Yes\"].loc[:,\"Balance\"].mean())\n",
    "print(\"The average balance of single people is \", df[df.Married == \"No\"].loc[:,\"Balance\"].mean())\n",
    "\n",
    "print(\"On average, single people have a higher balance.\")"
   ]
  },
  {
   "cell_type": "code",
   "execution_count": null,
   "metadata": {},
   "outputs": [],
   "source": [
    "import pandas as pd\n",
    "df = pd.read_csv('balance.txt', delim_whitespace=True)\n",
    "print(\"The highest income in the data set is: \", df.loc[:, \"Income\"].max())"
   ]
  },
  {
   "cell_type": "code",
   "execution_count": null,
   "metadata": {},
   "outputs": [],
   "source": [
    "import pandas as pd\n",
    "df = pd.read_csv('balance.txt', delim_whitespace=True)\n",
    "print(\"The lowest income in the data set is: \", df.loc[:, \"Income\"].min())"
   ]
  },
  {
   "cell_type": "code",
   "execution_count": null,
   "metadata": {},
   "outputs": [],
   "source": [
    "import pandas as pd\n",
    "df = pd.read_csv('balance.txt', delim_whitespace=True)\n",
    "print(\"The total number of cards recorded in the dataset is: \", df.loc[:, \"Cards\"].sum())"
   ]
  },
  {
   "cell_type": "code",
   "execution_count": 39,
   "metadata": {},
   "outputs": [
    {
     "name": "stdout",
     "output_type": "stream",
     "text": [
      "        Balance  Income  Limit  Rating  Cards  Age  Education  Student  \\\n",
      "Gender                                                                   \n",
      "Female      207     207    207     207    207  207        207      207   \n",
      "Male        193     193    193     193    193  193        193      193   \n",
      "\n",
      "        Married  Ethnicity  \n",
      "Gender                      \n",
      "Female      207        207  \n",
      "Male        193        193  \n",
      "\n",
      "The total number of females is 207. \n",
      "The total number of males is 193.\n"
     ]
    }
   ],
   "source": [
    "import pandas as pd\n",
    "df = pd.read_csv('balance.txt', delim_whitespace=True)\n",
    "print(df.groupby(\"Gender\").count())\n",
    "print(\"\\nThe total number of females is 207. \\nThe total number of males is 193.\")"
   ]
  },
  {
   "cell_type": "code",
   "execution_count": null,
   "metadata": {},
   "outputs": [],
   "source": []
  },
  {
   "cell_type": "code",
   "execution_count": null,
   "metadata": {},
   "outputs": [],
   "source": []
  }
 ],
 "metadata": {
  "colab": {
   "authorship_tag": "ABX9TyP5J3xG1JXUCQAkP9OLQqdU",
   "provenance": []
  },
  "kernelspec": {
   "display_name": "Python 3 (ipykernel)",
   "language": "python",
   "name": "python3"
  },
  "language_info": {
   "codemirror_mode": {
    "name": "ipython",
    "version": 3
   },
   "file_extension": ".py",
   "mimetype": "text/x-python",
   "name": "python",
   "nbconvert_exporter": "python",
   "pygments_lexer": "ipython3",
   "version": "3.10.9"
  }
 },
 "nbformat": 4,
 "nbformat_minor": 1
}
